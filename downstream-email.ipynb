{
 "cells": [
  {
   "cell_type": "code",
   "execution_count": null,
   "metadata": {
    "collapsed": true
   },
   "outputs": [],
   "source": [
    "# Stack prefix used for ddb stack\n",
    "stack_prefix = 's1-'"
   ]
  },
  {
   "cell_type": "code",
   "execution_count": null,
   "metadata": {
    "collapsed": true
   },
   "outputs": [],
   "source": [
    "# DDB stack\n",
    "ddb_stack = stack_prefix + 'sddb'"
   ]
  },
  {
   "cell_type": "code",
   "execution_count": null,
   "metadata": {
    "collapsed": true
   },
   "outputs": [],
   "source": [
    "# AWS SDK import and client for cloud formation\n",
    "import boto3\n",
    "\n",
    "client = boto3.client('cloudformation')"
   ]
  },
  {
   "cell_type": "code",
   "execution_count": null,
   "metadata": {
    "collapsed": false
   },
   "outputs": [],
   "source": [
    "# We need the name of the model instance table\n",
    "response = client.describe_stacks(\n",
    "    StackName=ddb_stack\n",
    ")\n",
    "\n",
    "outputs = response['Stacks'][0]['Outputs']\n",
    "print outputs\n",
    "\n",
    "model_instance_table_arn =  [o for o in outputs if o['OutputKey'] == 'InstanceTableArn'][0]['OutputValue']\n",
    "print model_instance_table_arn\n",
    "model_instance_table_name = [o for o in outputs if o['OutputKey'] == 'InstanceTableName'][0]['OutputValue']\n",
    "print model_instance_table_name"
   ]
  },
  {
   "cell_type": "code",
   "execution_count": null,
   "metadata": {
    "collapsed": false
   },
   "outputs": [],
   "source": [
    "# Get the stream ARN\n",
    "streams_client = boto3.client('dynamodbstreams')\n",
    "response = streams_client.list_streams(\n",
    "    TableName=model_instance_table_name\n",
    ")\n",
    "\n",
    "print response\n",
    "\n",
    "stream = response['Streams'][0]['StreamArn']\n",
    "print stream"
   ]
  },
  {
   "cell_type": "code",
   "execution_count": null,
   "metadata": {
    "collapsed": true
   },
   "outputs": [],
   "source": []
  }
 ],
 "metadata": {
  "kernelspec": {
   "display_name": "Python 2",
   "language": "python",
   "name": "python2"
  },
  "language_info": {
   "codemirror_mode": {
    "name": "ipython",
    "version": 2
   },
   "file_extension": ".py",
   "mimetype": "text/x-python",
   "name": "python",
   "nbconvert_exporter": "python",
   "pygments_lexer": "ipython2",
   "version": "2.7.12"
  }
 },
 "nbformat": 4,
 "nbformat_minor": 0
}
