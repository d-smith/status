{
 "cells": [
  {
   "cell_type": "code",
   "execution_count": null,
   "metadata": {
    "collapsed": true
   },
   "outputs": [],
   "source": [
    "event = '''\n",
    "{\"XtracEvent\": {\n",
    "    \"xmlns\": \"http://xmlns.fmr.com/systems/dev/xtrac/xen/2013/06/types\",\n",
    "    \"Event\": {\n",
    "        \"EventId\": 230296,\n",
    "        \"EventName\": \"UPDATE_EVENT\"\n",
    "    },\n",
    "    \"xmlns:xsi\": \"http://www.w3.org/2001/XMLSchema-instance\",\n",
    "    \"WorkItem\": {\n",
    "        \"ProblemIndicator\": \"N\",\n",
    "        \"CurrentOperId\": \"ECP Document Vault\",\n",
    "        \"LastEvent\": \"UPDATE\",\n",
    "        \"ItemSubtype\": \"\",\n",
    "        \"CreatingNode\": \"ECP Document Vault\",\n",
    "        \"SuspendStatus\": \"Active\",\n",
    "        \"WorkItemNo\": \"W018209-04AUG16\",\n",
    "        \"WorkItemClassification\": \"\",\n",
    "        \"CreatingOperId\": \"DocCapture\",\n",
    "        \"CurrentNode\": \"ECP\",\n",
    "        \"ItemType\": \"Miscellaneous\",\n",
    "        \"LastEvtTime\": \"11:12:46\",\n",
    "        \"OrgName\": \"FAT_3GenerationFamily\",\n",
    "        \"QueueType\": 2,\n",
    "        \"Parties\": {\"Party\": {\n",
    "            \"PartyIdType\": \"Other\",\n",
    "            \"AccountNo\": \"\",\n",
    "            \"FirstName\": \"\",\n",
    "            \"Address2\": \"\",\n",
    "            \"Address3\": \"\",\n",
    "            \"Title\": \"\",\n",
    "            \"PlanNo\": \"\",\n",
    "            \"PostalCode\": \"\",\n",
    "            \"OrgName\": \"FAT_3GenerationFamily\",\n",
    "            \"Address1\": \"\",\n",
    "            \"City\": \"\",\n",
    "            \"MiddleName\": \"\",\n",
    "            \"Name\": \"ORIG\",\n",
    "            \"Extension\": \"\",\n",
    "            \"PartyNo\": 1,\n",
    "            \"Address6\": \"\",\n",
    "            \"PartyId\": \"\",\n",
    "            \"Address4\": \"\",\n",
    "            \"State\": \"\",\n",
    "            \"Phone\": \"\",\n",
    "            \"Address5\": \"\",\n",
    "            \"Country\": \"\",\n",
    "            \"LastName\": \"\"\n",
    "        }},\n",
    "        \"NoteIndicator\": \"N\",\n",
    "        \"Cause\": \"\",\n",
    "        \"CurrStatDate\": \"01/05/2018\",\n",
    "        \"Status\": \"BROKER\",\n",
    "        \"EntryTime\": \"10:54:50\",\n",
    "        \"OperatorQueueIndicator\": \"N\",\n",
    "        \"CurrStatTm\": \"09:07:33\",\n",
    "        \"ParentWorkItemNo\": \"W018207-04AUG16\",\n",
    "        \"SplitStat\": \"C\",\n",
    "        \"Priority\": 0,\n",
    "        \"QueueEnterTime\": 1470322492278,\n",
    "        \"Amount\": 0,\n",
    "        \"TimesSusp\": 0,\n",
    "        \"IBRStatus\": \"\",\n",
    "        \"CommType\": \"\",\n",
    "        \"NodeAccessGroup\": \"ECP Client Portal AG\",\n",
    "        \"LastEvtDate\": \"01/11/2018\",\n",
    "        \"OrgId\": 56,\n",
    "        \"DocAttachments\": {\"DocAttachment\": [\n",
    "            {\n",
    "                \"DocumentId\": \"0901f15d8015d69a\",\n",
    "                \"DocumentDesc\": \"Document Capture\",\n",
    "                \"DocumentSrcSysConn\": \"Documentum\"\n",
    "            },\n",
    "            {\n",
    "                \"DocumentId\": \"0901f15d800d358e\",\n",
    "                \"DocumentDesc\": \"Document Capture\",\n",
    "                \"DocumentSrcSysConn\": \"Documentum\"\n",
    "            },\n",
    "            {\n",
    "                \"DocumentId\": \"0901f15d801596b6\",\n",
    "                \"DocumentDesc\": \"Document Capture\",\n",
    "                \"DocumentSrcSysConn\": \"Documentum\"\n",
    "            },\n",
    "            {\n",
    "                \"DocumentId\": \"0901f15d80158fac\",\n",
    "                \"DocumentDesc\": \"Document Capture\",\n",
    "                \"DocumentSrcSysConn\": \"Documentum\"\n",
    "            }\n",
    "        ]},\n",
    "        \"FamilyId\": \"W018206-04AUG16\",\n",
    "        \"StatusType\": \"I\",\n",
    "        \"EntryDate\": \"08/04/2016\",\n",
    "        \"SubCause\": \"\",\n",
    "        \"ModifiedByDifferentOperator\": \"N\",\n",
    "        \"MinutesSusp\": 0,\n",
    "        \"LockInd\": \"N\",\n",
    "        \"Memo\": \"Stream mod again\",\n",
    "        \"ArchiveStatus\": \"\"\n",
    "    }\n",
    "}}\n",
    "'''"
   ]
  },
  {
   "cell_type": "code",
   "execution_count": null,
   "metadata": {
    "collapsed": false
   },
   "outputs": [],
   "source": [
    "import json\n",
    "\n",
    "event_dict = json.loads(event)\n",
    "print event_dict"
   ]
  },
  {
   "cell_type": "code",
   "execution_count": null,
   "metadata": {
    "collapsed": false
   },
   "outputs": [],
   "source": [
    "if 'XtracEvent' in event_dict:\n",
    "    print 'yepper'\n",
    "else:\n",
    "    print 'nope'"
   ]
  },
  {
   "cell_type": "code",
   "execution_count": null,
   "metadata": {
    "collapsed": true
   },
   "outputs": [],
   "source": []
  }
 ],
 "metadata": {
  "kernelspec": {
   "display_name": "Python 2",
   "language": "python",
   "name": "python2"
  },
  "language_info": {
   "codemirror_mode": {
    "name": "ipython",
    "version": 2
   },
   "file_extension": ".py",
   "mimetype": "text/x-python",
   "name": "python",
   "nbconvert_exporter": "python",
   "pygments_lexer": "ipython2",
   "version": "2.7.12"
  }
 },
 "nbformat": 4,
 "nbformat_minor": 0
}
