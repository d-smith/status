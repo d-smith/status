{
 "cells": [
  {
   "cell_type": "code",
   "execution_count": null,
   "metadata": {
    "collapsed": true
   },
   "outputs": [],
   "source": [
    "import os\n",
    "\n",
    "host = os.getenv('API_HOST')\n",
    "port = os.getenv('API_PORT')"
   ]
  },
  {
   "cell_type": "code",
   "execution_count": null,
   "metadata": {
    "collapsed": false
   },
   "outputs": [],
   "source": [
    "print host, port"
   ]
  },
  {
   "cell_type": "code",
   "execution_count": null,
   "metadata": {
    "collapsed": true
   },
   "outputs": [],
   "source": [
    "client_id = os.getenv('CLIENT_ID')\n",
    "user = os.getenv('XT_USER')\n",
    "password = os.getenv('XT_PASSWORD')"
   ]
  },
  {
   "cell_type": "code",
   "execution_count": null,
   "metadata": {
    "collapsed": false
   },
   "outputs": [],
   "source": [
    "base_endpoint = 'http://{}:{}'.format(host, port)\n",
    "print base_endpoint"
   ]
  },
  {
   "cell_type": "code",
   "execution_count": null,
   "metadata": {
    "collapsed": false
   },
   "outputs": [],
   "source": [
    "# Login\n",
    "import requests\n",
    "\n",
    "login_payload = {}\n",
    "login_payload['client_id'] = client_id\n",
    "login_payload['username'] = user\n",
    "login_payload['password'] = password\n",
    "\n",
    "print login_payload\n",
    "\n",
    "#login_payload = {\"client_id\": \"apiAppIdForTesting\", \"username\": \"xapi-01\", \"password\":\"Tester01\"}\n",
    "headers = {\"Content-Type\":\"application/json\"}"
   ]
  },
  {
   "cell_type": "code",
   "execution_count": null,
   "metadata": {
    "collapsed": false
   },
   "outputs": [],
   "source": [
    "import json\n",
    "login_endpoint = base_endpoint + '/xtrac/login'\n",
    "print 'sending request to {}'.format(login_endpoint)\n",
    "r = requests.post(login_endpoint, data=json.dumps(login_payload))"
   ]
  },
  {
   "cell_type": "code",
   "execution_count": null,
   "metadata": {
    "collapsed": false
   },
   "outputs": [],
   "source": [
    "print r.raise_for_status()"
   ]
  },
  {
   "cell_type": "code",
   "execution_count": null,
   "metadata": {
    "collapsed": false
   },
   "outputs": [],
   "source": [
    "print r.text"
   ]
  },
  {
   "cell_type": "code",
   "execution_count": null,
   "metadata": {
    "collapsed": false
   },
   "outputs": [],
   "source": [
    "login_response = json.loads(r.text)\n",
    "print login_response['access_token']"
   ]
  },
  {
   "cell_type": "code",
   "execution_count": null,
   "metadata": {
    "collapsed": false
   },
   "outputs": [],
   "source": [
    "headers['Authorization'] = 'Bearer {}'.format(login_response['access_token'])\n",
    "print headers"
   ]
  },
  {
   "cell_type": "code",
   "execution_count": null,
   "metadata": {
    "collapsed": false
   },
   "outputs": [],
   "source": [
    "create_work_item = '''\n",
    "{\n",
    "  \"itemType\": \"Miscellaneous\",\n",
    "  \"status\": \"Assign Project Mgr\",\n",
    "  \"parties\": [\n",
    "    {\n",
    "      \"name\": \"ORIG\",\n",
    "      \"fields\": [\n",
    "        {\n",
    "          \"name\": \"OrgName\",\n",
    "          \"values\": [\n",
    "            \"test\"\n",
    "          ]\n",
    "        }\n",
    "      ]\n",
    "    }\n",
    "  ]\n",
    "}\n",
    "'''"
   ]
  },
  {
   "cell_type": "code",
   "execution_count": null,
   "metadata": {
    "collapsed": false
   },
   "outputs": [],
   "source": [
    "create_url = base_endpoint + '/xtrac/api/v1/work-items?evaluateRule=true'\n",
    "print 'sending request to {}'.format(create_url)\n",
    "r = requests.post(create_url, data=create_work_item, headers=headers)"
   ]
  },
  {
   "cell_type": "code",
   "execution_count": null,
   "metadata": {
    "collapsed": false
   },
   "outputs": [],
   "source": [
    "print r.raise_for_status()"
   ]
  },
  {
   "cell_type": "code",
   "execution_count": null,
   "metadata": {
    "collapsed": false
   },
   "outputs": [],
   "source": [
    "print r.text"
   ]
  },
  {
   "cell_type": "code",
   "execution_count": null,
   "metadata": {
    "collapsed": false
   },
   "outputs": [],
   "source": [
    "create_response = json.loads(r.text)\n",
    "work_item_no = create_response['data']['workItemNumber']\n",
    "print 'created {}'.format(work_item_no)"
   ]
  },
  {
   "cell_type": "code",
   "execution_count": null,
   "metadata": {
    "collapsed": true
   },
   "outputs": [],
   "source": [
    "def update_work_item(workItemNo, update, headers):\n",
    "    update_url = '{}/xtrac/api/v1/work-items/{}?evaluateRule=true'.format(\n",
    "        base_endpoint, workItemNo\n",
    "    )\n",
    "\n",
    "    r = requests.put(update_url,data=update,headers=headers)\n",
    "    r.raise_for_status()\n",
    "    print r.status_code\n",
    "    return r.text"
   ]
  },
  {
   "cell_type": "code",
   "execution_count": null,
   "metadata": {
    "collapsed": false
   },
   "outputs": [],
   "source": [
    "# Status -> Review Tech Requirements\n",
    "update_response = update_work_item(work_item_no, '{\"status\":\"Review Tech Requirements\"}', headers)\n",
    "print update_response"
   ]
  },
  {
   "cell_type": "code",
   "execution_count": null,
   "metadata": {
    "collapsed": false
   },
   "outputs": [],
   "source": [
    "# Status -> Configure Solution\n",
    "update_response = update_work_item(work_item_no, '{\"status\":\"Configure Solution\"}', headers)\n",
    "print update_response"
   ]
  },
  {
   "cell_type": "code",
   "execution_count": null,
   "metadata": {
    "collapsed": false
   },
   "outputs": [],
   "source": [
    "notify_email = 'foo@bar'\n",
    "email_update = '''\n",
    "{\n",
    "    \"status\":\"Send Email\",\n",
    "    \"fields\": [\n",
    "    {\n",
    "        \"name\": \"Memo\",\n",
    "        \"values\": [\n",
    "            \"''' + notify_email + '''\"\n",
    "        ],\n",
    "        \"isMsf\": false\n",
    "    }\n",
    "    ]\n",
    "}\n",
    "'''"
   ]
  },
  {
   "cell_type": "code",
   "execution_count": null,
   "metadata": {
    "collapsed": false
   },
   "outputs": [],
   "source": [
    "# Status -> Send Email\n",
    "update_response = update_work_item(work_item_no, email_update, headers)\n",
    "print update_response"
   ]
  },
  {
   "cell_type": "code",
   "execution_count": null,
   "metadata": {
    "collapsed": true
   },
   "outputs": [],
   "source": [
    "last_update = '''\n",
    "{\n",
    "    \"status\":\"Task Complete\",\n",
    "    \"fields\": [\n",
    "    {\n",
    "        \"name\": \"Memo\",\n",
    "        \"values\": [\n",
    "            \"\"\n",
    "        ],\n",
    "        \"isMsf\": false\n",
    "    }\n",
    "    ]\n",
    "}\n",
    "'''"
   ]
  },
  {
   "cell_type": "code",
   "execution_count": null,
   "metadata": {
    "collapsed": false
   },
   "outputs": [],
   "source": [
    "# Status -> Task Complete\n",
    "update_response = update_work_item(work_item_no, last_update, headers)\n",
    "print update_response"
   ]
  },
  {
   "cell_type": "code",
   "execution_count": null,
   "metadata": {
    "collapsed": true
   },
   "outputs": [],
   "source": []
  }
 ],
 "metadata": {
  "kernelspec": {
   "display_name": "Python 2",
   "language": "python",
   "name": "python2"
  },
  "language_info": {
   "codemirror_mode": {
    "name": "ipython",
    "version": 2
   },
   "file_extension": ".py",
   "mimetype": "text/x-python",
   "name": "python",
   "nbconvert_exporter": "python",
   "pygments_lexer": "ipython2",
   "version": "2.7.12"
  }
 },
 "nbformat": 4,
 "nbformat_minor": 0
}
