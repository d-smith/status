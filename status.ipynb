{
 "cells": [
  {
   "cell_type": "markdown",
   "metadata": {},
   "source": [
    "# Process Status Tracking Service\n",
    "\n",
    "## Introduction\n",
    "\n",
    "This notebook explores the design of a status tracking service that allows a model of\n",
    "a multi-step process to be created and its state progression maintained as events\n",
    "are emitted from various systems contributing to the overall progression of the process.\n",
    "\n",
    "In the most general case, an abstraction of the steps a business performs to satisfy\n",
    "a customer service request is created with the purpose of helping the customer\n",
    "understand the end to end process, and the current state of things. Assume several line of\n",
    "business systems are involved, perhaps coordinated by a BPM system, with some tasks automated\n",
    "and others performed manually.\n",
    "\n",
    "If the events that signal activity related to the customer service request can be captured, then\n",
    "they can be correlated to the completion and progression of the milestones captured in the \n",
    "status model."
   ]
  },
  {
   "cell_type": "markdown",
   "metadata": {},
   "source": [
    "## General Model\n",
    "\n",
    "In the general model, a sequence of events results in a sequence of state transitions in the status model.\n",
    "\n",
    "<pre>\n",
    "e0 -> [create model]\n",
    "e1 -> t1\n",
    "e2 -> t2\n",
    "...\n",
    "en -> tn\n",
    "</pre>\n",
    "\n",
    "The above can be model as applying a function to the event and the model state to get the new state of the model:\n",
    "\n",
    "<pre>\n",
    "f(e,m) -> m'\n",
    "</pre>\n",
    "\n",
    "To build a general system, we need some context to be present on all events:\n",
    "\n",
    "* A transaction id use to correlate all the events associated with a specific service request\n",
    "* A model id to indicate the model the events are applied to for the purpose of maintaining the \n",
    "model state\n",
    "\n",
    "For a service that can maintain models on behalf of multiple service request types, there needs to\n",
    "be a way to partition the event processing space by model. When an event is received by the system, the\n",
    "model state transition function is selected using the model id on the event. Then, the transaction id is\n",
    "used to select the model instance used as the input (along with the event) to the state transtion function"
   ]
  },
  {
   "cell_type": "markdown",
   "metadata": {},
   "source": [
    "## AWS Implementation\n",
    "\n",
    "For an AWS implementation, Kinesis can be used to feed events into the system. A lambda function can be defined to receive the events, and look up the lambda function used to process the event, then invoke the lambda function with the event. The lambda function can perform the model instance state retrieval, then apply the state transition function based on the model instance and the event.\n",
    "\n",
    "Note DynamoDB is used to store both the lambda function reference for a model, and to store model instance state as well.\n",
    "\n",
    "### Why Not Use Step Functions?\n",
    "\n",
    "On the surface, Step Functions might seem like the appropriate service in AWS to define and maintain model state. However, it is not a good fit in this case as receipt of the event indicated the work needed to transition model state has already occured, as opposed to the Step Function engine scheduling an activity to be performed by a worker process."
   ]
  },
  {
   "cell_type": "markdown",
   "metadata": {},
   "source": [
    "## DynamoDB Tables\n",
    "\n",
    "The following CloudFormation creates the DynamoDB tables used in this implementation."
   ]
  },
  {
   "cell_type": "code",
   "execution_count": null,
   "metadata": {
    "collapsed": true
   },
   "outputs": [],
   "source": [
    "cf_bucket = '84101-demo-bucket'\n",
    "template_name = 'ddb.yml'\n",
    "ddb_stack = 'sddb'"
   ]
  },
  {
   "cell_type": "code",
   "execution_count": null,
   "metadata": {
    "collapsed": false
   },
   "outputs": [],
   "source": [
    "%%bash -s \"$template_name\" \"$cf_bucket\"\n",
    "echo $2\n",
    "ls $1\n",
    "aws s3 cp ./$1 s3://$2"
   ]
  },
  {
   "cell_type": "code",
   "execution_count": null,
   "metadata": {
    "collapsed": true
   },
   "outputs": [],
   "source": [
    "import boto3\n",
    "\n",
    "client = boto3.client('cloudformation')"
   ]
  },
  {
   "cell_type": "code",
   "execution_count": null,
   "metadata": {
    "collapsed": true
   },
   "outputs": [],
   "source": [
    "def form_s3_url_prefix(region):\n",
    "    prefix = ''\n",
    "    if region == 'us-east-1':\n",
    "        prefix = 'https://s3.amazonaws.com'\n",
    "    else:\n",
    "        prefix = 'https://s3-' + region + '.amazonaws.com'\n",
    "    return prefix"
   ]
  },
  {
   "cell_type": "code",
   "execution_count": null,
   "metadata": {
    "collapsed": false
   },
   "outputs": [],
   "source": [
    "import os\n",
    "region = os.environ['AWS_DEFAULT_REGION']\n",
    "bucketRoot = form_s3_url_prefix(region) + '/' + cf_bucket\n",
    "print bucketRoot"
   ]
  },
  {
   "cell_type": "code",
   "execution_count": null,
   "metadata": {
    "collapsed": false
   },
   "outputs": [],
   "source": [
    "response = client.create_stack(\n",
    "    StackName=ddb_stack,\n",
    "    TemplateURL=bucketRoot + '/' + template_name\n",
    ")\n",
    "\n",
    "print response"
   ]
  },
  {
   "cell_type": "code",
   "execution_count": null,
   "metadata": {
    "collapsed": false
   },
   "outputs": [],
   "source": [
    "# Wait for it...\n",
    "waiter = client.get_waiter('stack_create_complete')\n",
    "waiter.wait(\n",
    "    StackName=ddb_stack\n",
    ")\n",
    "\n",
    "print 'stack created'"
   ]
  },
  {
   "cell_type": "markdown",
   "metadata": {
    "collapsed": true
   },
   "source": [
    "## Kinesis Stream and Event Delegation\n",
    "\n",
    "The front end of the event processing runtime is a Kinesis stream with a lambda that reads the records written to the stream."
   ]
  },
  {
   "cell_type": "code",
   "execution_count": null,
   "metadata": {
    "collapsed": true
   },
   "outputs": [],
   "source": [
    "# Stage the cloud formation and the zip file containing the lambda function.\n",
    "lambda_zip = 'kreader.zip'\n",
    "front_end_cf = 'k2l.yml'\n",
    "front_end_stack='sfe'"
   ]
  },
  {
   "cell_type": "code",
   "execution_count": null,
   "metadata": {
    "collapsed": false
   },
   "outputs": [],
   "source": [
    "%%bash -s \"$cf_bucket\" \"$front_end_cf\" \"$lambda_zip\"\n",
    "make\n",
    "aws s3 cp $2 s3://$1\n",
    "aws s3 cp $3 s3://$1"
   ]
  },
  {
   "cell_type": "code",
   "execution_count": null,
   "metadata": {
    "collapsed": false
   },
   "outputs": [],
   "source": [
    "response = client.create_stack(\n",
    "    StackName=front_end_stack,\n",
    "    TemplateURL=bucketRoot + '/' + front_end_cf,\n",
    "    Parameters=[\n",
    "        {\n",
    "            'ParameterKey': 'CodeBucketName',\n",
    "            'ParameterValue': cf_bucket\n",
    "        }\n",
    "    ],\n",
    "    Capabilities=[\n",
    "        'CAPABILITY_IAM',\n",
    "    ]\n",
    ")\n",
    "\n",
    "print response"
   ]
  },
  {
   "cell_type": "code",
   "execution_count": null,
   "metadata": {
    "collapsed": false
   },
   "outputs": [],
   "source": [
    "# Wait for it...\n",
    "waiter = client.get_waiter('stack_create_complete')\n",
    "waiter.wait(\n",
    "    StackName=front_end_stack\n",
    ")\n",
    "\n",
    "print 'stack created'"
   ]
  },
  {
   "cell_type": "markdown",
   "metadata": {},
   "source": [
    "### Try Out the Event Delegation Lambda Function\n",
    "\n",
    "The cloud formation template creates both the lambda function, the kinesis stream, and ties the two together. From this notebook we can call the function directly as well."
   ]
  },
  {
   "cell_type": "code",
   "execution_count": null,
   "metadata": {
    "collapsed": false
   },
   "outputs": [],
   "source": [
    "# First get the lambda function that was created in the stack\n",
    "response = client.list_stack_resources(\n",
    "    StackName=front_end_stack\n",
    ")\n",
    "\n",
    "print response"
   ]
  },
  {
   "cell_type": "code",
   "execution_count": null,
   "metadata": {
    "collapsed": false
   },
   "outputs": [],
   "source": [
    "resource_name = 'KinesisReader'\n",
    "lambda_fn = ''\n",
    "\n",
    "resource_summaries = response['StackResourceSummaries']\n",
    "\n",
    "for r in resource_summaries:\n",
    "    if r['LogicalResourceId'] == resource_name:\n",
    "        lambda_fn = r['PhysicalResourceId']\n",
    "        \n",
    "print 'function created by stack is {}'.format(lambda_fn)\n",
    "    "
   ]
  },
  {
   "cell_type": "code",
   "execution_count": null,
   "metadata": {
    "collapsed": true
   },
   "outputs": [],
   "source": [
    "import base64\n",
    "\n",
    "event_data = base64.b64encode('{\"foo\":\"data for you\"}')"
   ]
  },
  {
   "cell_type": "code",
   "execution_count": null,
   "metadata": {
    "collapsed": false
   },
   "outputs": [],
   "source": [
    "event_payload = '''\n",
    "{\n",
    "  \"Records\": [\n",
    "    {\n",
    "      \"eventID\": \"shardId-000000000000:49545115243490985018280067714973144582180062593244200961\",\n",
    "      \"eventVersion\": \"1.0\",\n",
    "      \"kinesis\": {\n",
    "        \"approximateArrivalTimestamp\": 1428537600,\n",
    "        \"partitionKey\": \"partitionKey-3\",\n",
    "        \"data\": \"''' + event_data + '''\",\n",
    "        \"kinesisSchemaVersion\": \"1.0\",\n",
    "        \"sequenceNumber\": \"49545115243490985018280067714973144582180062593244200961\"\n",
    "      },\n",
    "      \"invokeIdentityArn\": \"arn:aws:iam::EXAMPLE\",\n",
    "      \"eventName\": \"aws:kinesis:record\",\n",
    "      \"eventSourceARN\": \"arn:aws:kinesis:EXAMPLE\",\n",
    "      \"eventSource\": \"aws:kinesis\",\n",
    "      \"awsRegion\": \"us-east-1\"\n",
    "    }\n",
    "  ]\n",
    "}\n",
    "'''\n",
    "\n",
    "print event_payload"
   ]
  },
  {
   "cell_type": "code",
   "execution_count": null,
   "metadata": {
    "collapsed": false
   },
   "outputs": [],
   "source": [
    "# Invoke the function synchronously, and print the output from the logs\n",
    "import base64\n",
    "\n",
    "lambda_client = boto3.client('lambda')\n",
    "\n",
    "response = lambda_client.invoke(\n",
    "    FunctionName=lambda_fn,\n",
    "#    InvocationType='Event',\n",
    "    LogType='Tail',\n",
    "    ClientContext=base64.b64encode('{\"ctx\":\"what, me worry?\"}'),\n",
    "    Payload=event_payload\n",
    ")\n",
    "\n",
    "log_result = base64.b64decode(response['LogResult'])\n",
    "print log_result"
   ]
  },
  {
   "cell_type": "markdown",
   "metadata": {},
   "source": [
    "## Clean Up\n",
    "\n",
    "This section clean up the stacks created earlier"
   ]
  },
  {
   "cell_type": "code",
   "execution_count": null,
   "metadata": {
    "collapsed": false
   },
   "outputs": [],
   "source": [
    "response = client.delete_stack(\n",
    "    StackName=front_end_stack\n",
    ")\n",
    "\n",
    "print response\n",
    "\n"
   ]
  },
  {
   "cell_type": "code",
   "execution_count": null,
   "metadata": {
    "collapsed": false
   },
   "outputs": [],
   "source": [
    "print 'waiting for destroy of {}...'.format(front_end_stack)\n",
    "waiter = client.get_waiter('stack_delete_complete')\n",
    "waiter.wait(\n",
    "    StackName=front_end_stack\n",
    ")\n",
    "\n",
    "print 'front end stack destroyed'"
   ]
  },
  {
   "cell_type": "code",
   "execution_count": null,
   "metadata": {
    "collapsed": false
   },
   "outputs": [],
   "source": [
    "print 'destroy {}'.format(ddb_stack)\n",
    "response = client.delete_stack(\n",
    "    StackName=ddb_stack\n",
    ")\n",
    "\n",
    "print response\n",
    "\n",
    "print 'waiting for destroy of {}...'.format(ddb_stack)\n",
    "waiter.wait(\n",
    "    StackName=ddb_stack\n",
    ")\n",
    "\n",
    "print 'ddb_stack stack destroyed'"
   ]
  },
  {
   "cell_type": "code",
   "execution_count": null,
   "metadata": {
    "collapsed": true
   },
   "outputs": [],
   "source": []
  }
 ],
 "metadata": {
  "kernelspec": {
   "display_name": "Python 2",
   "language": "python",
   "name": "python2"
  },
  "language_info": {
   "codemirror_mode": {
    "name": "ipython",
    "version": 2
   },
   "file_extension": ".py",
   "mimetype": "text/x-python",
   "name": "python",
   "nbconvert_exporter": "python",
   "pygments_lexer": "ipython2",
   "version": "2.7.12"
  }
 },
 "nbformat": 4,
 "nbformat_minor": 0
}
