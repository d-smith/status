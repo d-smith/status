{
 "cells": [
  {
   "cell_type": "markdown",
   "metadata": {},
   "source": [
    "# Process Status Tracking Service\n",
    "\n",
    "## Introduction\n",
    "\n",
    "This notebook explores the design of a status tracking service that allows a model of\n",
    "a multi-step process to be created and its state progression maintained as events\n",
    "are emitted from various systems contributing to the overall progression of the process.\n",
    "\n",
    "In the most general case, an abstraction of the steps a business performs to satisfy\n",
    "a customer service request is created with the purpose of helping the customer\n",
    "understand the end to end process, and the current state of things. Assume several line of\n",
    "business systems are involved, perhaps coordinated by a BPM system, with some tasks automated\n",
    "and others performed manually.\n",
    "\n",
    "If the events that signal activity related to the customer service request can be captured, then\n",
    "they can be correlated to the completion and progression of the milestones captured in the \n",
    "status model."
   ]
  },
  {
   "cell_type": "markdown",
   "metadata": {},
   "source": [
    "## General Model\n",
    "\n",
    "In the general model, a sequence of events results in a sequence of state transitions in the status model.\n",
    "\n",
    "<pre>\n",
    "e0 -> [create model]\n",
    "e1 -> t1\n",
    "e2 -> t2\n",
    "...\n",
    "en -> tn\n",
    "</pre>\n",
    "\n",
    "The above can be model as applying a function to the event and the model state to get the new state of the model:\n",
    "\n",
    "<pre>\n",
    "f(e,m) -> m'\n",
    "</pre>\n",
    "\n",
    "To build a general system, we need some context to be present on all events:\n",
    "\n",
    "* A transaction id use to correlate all the events associated with a specific service request\n",
    "* A model id to indicate the model the events are applied to for the purpose of maintaining the \n",
    "model state\n",
    "\n",
    "For a service that can maintain models on behalf of multiple service request types, there needs to\n",
    "be a way to partition the event processing space by model. When an event is received by the system, the\n",
    "model state transition function is selected using the model id on the event. Then, the transaction id is\n",
    "used to select the model instance used as the input (along with the event) to the state transtion function"
   ]
  },
  {
   "cell_type": "markdown",
   "metadata": {},
   "source": [
    "## AWS Implementation\n",
    "\n",
    "For an AWS implementation, Kinesis can be used to feed events into the system. A lambda function can be defined to receive the events, and look up the lambda function used to process the event, then invoke the lambda function with the event. The lambda function can perform the model instance state retrieval, then apply the state transition function based on the model instance and the event.\n",
    "\n",
    "Note DynamoDB is used to store both the lambda function reference for a model, and to store model instance state as well.\n",
    "\n",
    "### Why Not Use Step Functions?\n",
    "\n",
    "On the surface, Step Functions might seem like the appropriate service in AWS to define and maintain model state. However, it is not a good fit in this case as receipt of the event indicated the work needed to transition model state has already occured, as opposed to the Step Function engine scheduling an activity to be performed by a worker process.\n",
    "\n",
    "### Payload\n",
    "\n",
    "We'll assume that JSON will be used to structure the data used by the event delegator amd state-transition function lambdas. An attribute named 'txnId' will carry the transaction id, and an attribute named 'modelId' will carry the model id."
   ]
  },
  {
   "cell_type": "markdown",
   "metadata": {},
   "source": [
    "## DynamoDB Tables\n",
    "\n",
    "The following CloudFormation creates the DynamoDB tables used in this implementation."
   ]
  },
  {
   "cell_type": "code",
   "execution_count": null,
   "metadata": {
    "collapsed": true
   },
   "outputs": [],
   "source": [
    "cf_bucket = '84101-demo-bucket'\n",
    "template_name = 'ddb.yml'\n",
    "ddb_stack = 'sddb'"
   ]
  },
  {
   "cell_type": "code",
   "execution_count": null,
   "metadata": {
    "collapsed": false
   },
   "outputs": [],
   "source": [
    "%%bash -s \"$template_name\" \"$cf_bucket\"\n",
    "echo $2\n",
    "ls $1\n",
    "aws s3 cp ./$1 s3://$2"
   ]
  },
  {
   "cell_type": "code",
   "execution_count": null,
   "metadata": {
    "collapsed": true
   },
   "outputs": [],
   "source": [
    "import boto3\n",
    "\n",
    "client = boto3.client('cloudformation')"
   ]
  },
  {
   "cell_type": "code",
   "execution_count": null,
   "metadata": {
    "collapsed": true
   },
   "outputs": [],
   "source": [
    "def form_s3_url_prefix(region):\n",
    "    prefix = ''\n",
    "    if region == 'us-east-1':\n",
    "        prefix = 'https://s3.amazonaws.com'\n",
    "    else:\n",
    "        prefix = 'https://s3-' + region + '.amazonaws.com'\n",
    "    return prefix"
   ]
  },
  {
   "cell_type": "code",
   "execution_count": null,
   "metadata": {
    "collapsed": false
   },
   "outputs": [],
   "source": [
    "import os\n",
    "region = os.environ['AWS_DEFAULT_REGION']\n",
    "bucketRoot = form_s3_url_prefix(region) + '/' + cf_bucket\n",
    "print bucketRoot"
   ]
  },
  {
   "cell_type": "code",
   "execution_count": null,
   "metadata": {
    "collapsed": false
   },
   "outputs": [],
   "source": [
    "response = client.create_stack(\n",
    "    StackName=ddb_stack,\n",
    "    TemplateURL=bucketRoot + '/' + template_name\n",
    ")\n",
    "\n",
    "print response"
   ]
  },
  {
   "cell_type": "code",
   "execution_count": null,
   "metadata": {
    "collapsed": false
   },
   "outputs": [],
   "source": [
    "# Wait for it...\n",
    "waiter = client.get_waiter('stack_create_complete')\n",
    "waiter.wait(\n",
    "    StackName=ddb_stack\n",
    ")\n",
    "\n",
    "print 'stack created'"
   ]
  },
  {
   "cell_type": "markdown",
   "metadata": {
    "collapsed": true
   },
   "source": [
    "## Kinesis Stream and Event Delegation\n",
    "\n",
    "The front end of the event processing runtime is a Kinesis stream with a lambda that reads the records written to the stream."
   ]
  },
  {
   "cell_type": "code",
   "execution_count": null,
   "metadata": {
    "collapsed": true
   },
   "outputs": [],
   "source": [
    "# Stage the cloud formation and the zip file containing the lambda function.\n",
    "lambda_zip = 'kreader.zip'\n",
    "front_end_cf = 'k2l.yml'\n",
    "front_end_stack='sfe'"
   ]
  },
  {
   "cell_type": "code",
   "execution_count": null,
   "metadata": {
    "collapsed": false
   },
   "outputs": [],
   "source": [
    "%%bash -s \"$cf_bucket\" \"$front_end_cf\" \"$lambda_zip\"\n",
    "make\n",
    "aws s3 cp $2 s3://$1\n",
    "aws s3 cp $3 s3://$1"
   ]
  },
  {
   "cell_type": "code",
   "execution_count": null,
   "metadata": {
    "collapsed": false
   },
   "outputs": [],
   "source": [
    "# We need the model to STF lookup table ARN as a cloud formation input\n",
    "response = client.describe_stacks(\n",
    "    StackName=ddb_stack\n",
    ")\n",
    "\n",
    "outputs = response['Stacks'][0]['Outputs']\n",
    "print outputs\n",
    "\n",
    "stf_table_arn =  [o for o in outputs if o['OutputKey'] == 'STFTableArn'][0]['OutputValue']\n",
    "print stf_table_arn\n",
    "stf_table_name = [o for o in outputs if o['OutputKey'] == 'STFTableName'][0]['OutputValue']\n",
    "print stf_table_name"
   ]
  },
  {
   "cell_type": "code",
   "execution_count": null,
   "metadata": {
    "collapsed": false
   },
   "outputs": [],
   "source": [
    "response = client.create_stack(\n",
    "    StackName=front_end_stack,\n",
    "    TemplateURL=bucketRoot + '/' + front_end_cf,\n",
    "    Parameters=[\n",
    "        {\n",
    "            'ParameterKey': 'CodeBucketName',\n",
    "            'ParameterValue': cf_bucket\n",
    "        },\n",
    "        {\n",
    "            'ParameterKey': 'ModelSTMTableArn',\n",
    "            'ParameterValue': stf_table_arn\n",
    "        },\n",
    "        {\n",
    "            'ParameterKey': 'ModelSTMTableName',\n",
    "            'ParameterValue': stf_table_name\n",
    "        }\n",
    "    ],\n",
    "    Capabilities=[\n",
    "        'CAPABILITY_IAM',\n",
    "    ]\n",
    ")\n",
    "\n",
    "print response"
   ]
  },
  {
   "cell_type": "code",
   "execution_count": null,
   "metadata": {
    "collapsed": false
   },
   "outputs": [],
   "source": [
    "# Wait for it...\n",
    "waiter = client.get_waiter('stack_create_complete')\n",
    "waiter.wait(\n",
    "    StackName=front_end_stack\n",
    ")\n",
    "\n",
    "print 'stack created'"
   ]
  },
  {
   "cell_type": "markdown",
   "metadata": {},
   "source": [
    "## Event Injection"
   ]
  },
  {
   "cell_type": "code",
   "execution_count": null,
   "metadata": {
    "collapsed": true
   },
   "outputs": [],
   "source": [
    "def create_event(event_data):\n",
    "    event_payload = '''\n",
    "    {\n",
    "      \"Records\": [\n",
    "        {\n",
    "          \"eventID\": \"shardId-000000000000:49545115243490985018280067714973144582180062593244200961\",\n",
    "          \"eventVersion\": \"1.0\",\n",
    "          \"kinesis\": {\n",
    "            \"approximateArrivalTimestamp\": 1428537600,\n",
    "            \"partitionKey\": \"partitionKey-3\",\n",
    "            \"data\": \"''' + event_data + '''\",\n",
    "            \"kinesisSchemaVersion\": \"1.0\",\n",
    "            \"sequenceNumber\": \"49545115243490985018280067714973144582180062593244200961\"\n",
    "          },\n",
    "          \"invokeIdentityArn\": \"arn:aws:iam::EXAMPLE\",\n",
    "          \"eventName\": \"aws:kinesis:record\",\n",
    "          \"eventSourceARN\": \"arn:aws:kinesis:EXAMPLE\",\n",
    "          \"eventSource\": \"aws:kinesis\",\n",
    "          \"awsRegion\": \"us-east-1\"\n",
    "        }\n",
    "      ]\n",
    "    }\n",
    "    '''\n",
    "    \n",
    "    return event_payload"
   ]
  },
  {
   "cell_type": "code",
   "execution_count": null,
   "metadata": {
    "collapsed": false
   },
   "outputs": [],
   "source": [
    "# First get the lambda function that was created in the stack\n",
    "response = client.list_stack_resources(\n",
    "    StackName=front_end_stack\n",
    ")\n",
    "\n",
    "print response"
   ]
  },
  {
   "cell_type": "code",
   "execution_count": null,
   "metadata": {
    "collapsed": false
   },
   "outputs": [],
   "source": [
    "resource_name = 'KinesisReader'\n",
    "lambda_fn = ''\n",
    "\n",
    "resource_summaries = response['StackResourceSummaries']\n",
    "\n",
    "for r in resource_summaries:\n",
    "    if r['LogicalResourceId'] == resource_name:\n",
    "        lambda_fn = r['PhysicalResourceId']\n",
    "        \n",
    "print 'function created by stack is {}'.format(lambda_fn)\n",
    "    "
   ]
  },
  {
   "cell_type": "code",
   "execution_count": null,
   "metadata": {
    "collapsed": false
   },
   "outputs": [],
   "source": [
    "import base64\n",
    "import uuid\n",
    "import json\n",
    "\n",
    "event_payload = {}\n",
    "\n",
    "event_payload['txnId'] = str(uuid.uuid4())\n",
    "event_payload['modelId'] = 'model1'\n",
    "event_payload['instanceId'] = str(uuid.uuid4())\n",
    "event_payload['state'] = 'OrderReceived'\n",
    "\n",
    "jp = json.dumps(event_payload)\n",
    "\n",
    "print jp\n",
    "event_data = base64.b64encode(jp)"
   ]
  },
  {
   "cell_type": "code",
   "execution_count": null,
   "metadata": {
    "collapsed": false
   },
   "outputs": [],
   "source": [
    "event_payload = create_event(event_data)\n",
    "print event_payload"
   ]
  },
  {
   "cell_type": "code",
   "execution_count": null,
   "metadata": {
    "collapsed": false
   },
   "outputs": [],
   "source": [
    "# Invoke the function synchronously, and print the output from the logs\n",
    "import base64\n",
    "\n",
    "lambda_client = boto3.client('lambda')\n",
    "\n",
    "response = lambda_client.invoke(\n",
    "    FunctionName=lambda_fn,\n",
    "#    InvocationType='Event',\n",
    "    LogType='Tail',\n",
    "    ClientContext=base64.b64encode('{\"txnId\":\"what, me worry?\"}'),\n",
    "    Payload=event_payload\n",
    ")\n",
    "\n",
    "log_result = base64.b64decode(response['LogResult'])\n",
    "print log_result"
   ]
  },
  {
   "cell_type": "markdown",
   "metadata": {},
   "source": [
    "## Install a Sample Status Model"
   ]
  },
  {
   "cell_type": "markdown",
   "metadata": {},
   "source": [
    "### Install Lambda Function"
   ]
  },
  {
   "cell_type": "code",
   "execution_count": null,
   "metadata": {
    "collapsed": true
   },
   "outputs": [],
   "source": [
    "# Stage the function and the cloud formation.\n",
    "sample_status_cf = 'pizza.yml'\n",
    "sample_status_zip = 'pizza.zip'"
   ]
  },
  {
   "cell_type": "code",
   "execution_count": null,
   "metadata": {
    "collapsed": false
   },
   "outputs": [],
   "source": [
    "%%bash -s \"$cf_bucket\" \"$sample_status_cf\" \"$sample_status_zip\"\n",
    "make\n",
    "aws s3 cp $2 s3://$1\n",
    "aws s3 cp $3 s3://$1"
   ]
  },
  {
   "cell_type": "code",
   "execution_count": null,
   "metadata": {
    "collapsed": false
   },
   "outputs": [],
   "source": [
    "# We need to look up the model instance table ARN as a cloud formation input\n",
    "response = client.describe_stacks(\n",
    "    StackName=ddb_stack\n",
    ")\n",
    "\n",
    "outputs = response['Stacks'][0]['Outputs']\n",
    "print outputs\n",
    "\n",
    "model_instance_table_arn =  [o for o in outputs if o['OutputKey'] == 'InstanceTableArn'][0]['OutputValue']\n",
    "print model_instance_table_arn\n",
    "model_instance_table_name = [o for o in outputs if o['OutputKey'] == 'InstanceTableName'][0]['OutputValue']\n",
    "print model_instance_table_name"
   ]
  },
  {
   "cell_type": "code",
   "execution_count": null,
   "metadata": {
    "collapsed": false
   },
   "outputs": [],
   "source": [
    "response = client.create_stack(\n",
    "    StackName='pizza-sample-stack',\n",
    "    TemplateURL=bucketRoot + '/' + sample_status_cf,\n",
    "    Parameters=[\n",
    "        {\n",
    "            'ParameterKey': 'CodeBucketName',\n",
    "            'ParameterValue': cf_bucket\n",
    "        },\n",
    "        {\n",
    "            'ParameterKey': 'ModelInstanceTableArn',\n",
    "            'ParameterValue': model_instance_table_arn\n",
    "        },\n",
    "        {\n",
    "            'ParameterKey': 'ModelInstanceTableName',\n",
    "            'ParameterValue': model_instance_table_name\n",
    "        }\n",
    "    ],\n",
    "    Capabilities=[\n",
    "        'CAPABILITY_IAM',\n",
    "    ]\n",
    ")\n",
    "\n",
    "print response"
   ]
  },
  {
   "cell_type": "code",
   "execution_count": null,
   "metadata": {
    "collapsed": false
   },
   "outputs": [],
   "source": [
    "# Wait for it...\n",
    "waiter = client.get_waiter('stack_create_complete')\n",
    "waiter.wait(\n",
    "    StackName='pizza-sample-stack'\n",
    ")\n",
    "\n",
    "print 'stack created'"
   ]
  },
  {
   "cell_type": "code",
   "execution_count": null,
   "metadata": {
    "collapsed": false
   },
   "outputs": [],
   "source": [
    "response = client.describe_stacks(\n",
    "    StackName='pizza-sample-stack'\n",
    ")\n",
    "\n",
    "outputs = response['Stacks'][0]['Outputs']\n",
    "print outputs\n",
    "\n",
    "function_name = [o for o in outputs if o['OutputKey'] == 'PizzaModelFunctionName'][0]['OutputValue']\n",
    "print function_name"
   ]
  },
  {
   "cell_type": "markdown",
   "metadata": {},
   "source": [
    "### Add a model function to look up"
   ]
  },
  {
   "cell_type": "code",
   "execution_count": null,
   "metadata": {
    "collapsed": true
   },
   "outputs": [],
   "source": [
    "modelId = 'model1'"
   ]
  },
  {
   "cell_type": "code",
   "execution_count": null,
   "metadata": {
    "collapsed": false
   },
   "outputs": [],
   "source": [
    "ddb_client = boto3.client('dynamodb')\n",
    "response = ddb_client.put_item(\n",
    "    TableName=stf_table_name,\n",
    "    Item={\n",
    "        'modelId':{'S': modelId},\n",
    "        'functionName':{'S' : function_name}\n",
    "    }\n",
    ")\n",
    "\n",
    "print response"
   ]
  },
  {
   "cell_type": "code",
   "execution_count": null,
   "metadata": {
    "collapsed": false
   },
   "outputs": [],
   "source": [
    "# Invoke it now with something to look up\n",
    "\n",
    "response = lambda_client.invoke(\n",
    "    FunctionName=lambda_fn,\n",
    "#    InvocationType='Event',\n",
    "    LogType='Tail',\n",
    "    ClientContext=base64.b64encode('{\"txnId\":\"what, me worry?\"}'),\n",
    "    Payload=event_payload\n",
    ")\n",
    "\n",
    "log_result = base64.b64decode(response['LogResult'])\n",
    "print log_result"
   ]
  },
  {
   "cell_type": "markdown",
   "metadata": {},
   "source": [
    "## Write State Changes to the Kinesis Stream"
   ]
  },
  {
   "cell_type": "code",
   "execution_count": null,
   "metadata": {
    "collapsed": true
   },
   "outputs": [],
   "source": [
    "kinesis = boto3.client('kinesis')"
   ]
  },
  {
   "cell_type": "code",
   "execution_count": null,
   "metadata": {
    "collapsed": true
   },
   "outputs": [],
   "source": [
    "instance_id = str(uuid.uuid4())\n",
    "model = 'model1'"
   ]
  },
  {
   "cell_type": "code",
   "execution_count": null,
   "metadata": {
    "collapsed": false
   },
   "outputs": [],
   "source": [
    "event_payload = {}\n",
    "\n",
    "event_payload['txnId'] = str(uuid.uuid4())\n",
    "event_payload['modelId'] = model\n",
    "event_payload['instanceId'] = instance_id\n",
    "event_payload['state'] = 'OrderReceived'\n",
    "\n",
    "jp = json.dumps(event_payload)\n",
    "\n",
    "print jp"
   ]
  },
  {
   "cell_type": "code",
   "execution_count": null,
   "metadata": {
    "collapsed": false
   },
   "outputs": [],
   "source": [
    "response = client.describe_stacks(\n",
    "    StackName=front_end_stack\n",
    ")\n",
    "\n",
    "outputs = response['Stacks'][0]['Outputs']\n",
    "print outputs\n",
    "\n",
    "stream_name = [o for o in outputs if o['OutputKey'] == 'StreamName'][0]['OutputValue']\n",
    "print stream_name"
   ]
  },
  {
   "cell_type": "code",
   "execution_count": null,
   "metadata": {
    "collapsed": false
   },
   "outputs": [],
   "source": [
    "response = kinesis.put_record(\n",
    "    StreamName=stream_name,\n",
    "    Data=jp,\n",
    "    PartitionKey=instance_id\n",
    ")\n",
    "\n",
    "print response"
   ]
  },
  {
   "cell_type": "code",
   "execution_count": null,
   "metadata": {
    "collapsed": false
   },
   "outputs": [],
   "source": [
    "event_payload['txnId'] = str(uuid.uuid4())\n",
    "event_payload['state'] = 'AssemblingPizza'\n",
    "jp = json.dumps(event_payload)\n",
    "\n",
    "response = kinesis.put_record(\n",
    "    StreamName=stream_name,\n",
    "    Data=jp,\n",
    "    PartitionKey=instance_id\n",
    ")\n",
    "\n",
    "print response"
   ]
  },
  {
   "cell_type": "code",
   "execution_count": null,
   "metadata": {
    "collapsed": false
   },
   "outputs": [],
   "source": [
    "event_payload['txnId'] = str(uuid.uuid4())\n",
    "event_payload['state'] = 'CookingPizza'\n",
    "jp = json.dumps(event_payload)\n",
    "\n",
    "response = kinesis.put_record(\n",
    "    StreamName=stream_name,\n",
    "    Data=jp,\n",
    "    PartitionKey=instance_id\n",
    ")\n",
    "\n",
    "print response"
   ]
  },
  {
   "cell_type": "code",
   "execution_count": null,
   "metadata": {
    "collapsed": false
   },
   "outputs": [],
   "source": [
    "event_payload['txnId'] = str(uuid.uuid4())\n",
    "event_payload['state'] = 'PizzaReady'\n",
    "jp = json.dumps(event_payload)\n",
    "\n",
    "response = kinesis.put_record(\n",
    "    StreamName=stream_name,\n",
    "    Data=jp,\n",
    "    PartitionKey=instance_id\n",
    ")\n",
    "\n",
    "print response"
   ]
  },
  {
   "cell_type": "code",
   "execution_count": null,
   "metadata": {
    "collapsed": false
   },
   "outputs": [],
   "source": [
    "# Retrieve the record from ddb\n",
    "response = ddb_client.get_item(\n",
    "    TableName=model_instance_table_name,\n",
    "    Key={\n",
    "        'instanceId':{'S':instance_id}\n",
    "    }\n",
    ")\n",
    "\n",
    "print response"
   ]
  },
  {
   "cell_type": "markdown",
   "metadata": {},
   "source": [
    "## Clean Up\n",
    "\n",
    "This section clean up the stacks created earlier"
   ]
  },
  {
   "cell_type": "code",
   "execution_count": null,
   "metadata": {
    "collapsed": false
   },
   "outputs": [],
   "source": [
    "response = client.delete_stack(\n",
    "    StackName='pizza-sample-stack'\n",
    ")\n",
    "\n",
    "print response"
   ]
  },
  {
   "cell_type": "code",
   "execution_count": null,
   "metadata": {
    "collapsed": false
   },
   "outputs": [],
   "source": [
    "print 'waiting for destroy of {}...'.format('pizza-sample-stack')\n",
    "waiter = client.get_waiter('stack_delete_complete')\n",
    "waiter.wait(\n",
    "    StackName='pizza-sample-stack'\n",
    ")\n",
    "\n",
    "print 'pizza sample stack destroyed'"
   ]
  },
  {
   "cell_type": "code",
   "execution_count": null,
   "metadata": {
    "collapsed": false
   },
   "outputs": [],
   "source": [
    "response = client.delete_stack(\n",
    "    StackName=front_end_stack\n",
    ")\n",
    "\n",
    "print response\n",
    "\n"
   ]
  },
  {
   "cell_type": "code",
   "execution_count": null,
   "metadata": {
    "collapsed": false
   },
   "outputs": [],
   "source": [
    "print 'waiting for destroy of {}...'.format(front_end_stack)\n",
    "waiter = client.get_waiter('stack_delete_complete')\n",
    "waiter.wait(\n",
    "    StackName=front_end_stack\n",
    ")\n",
    "\n",
    "print 'front end stack destroyed'"
   ]
  },
  {
   "cell_type": "code",
   "execution_count": null,
   "metadata": {
    "collapsed": false
   },
   "outputs": [],
   "source": [
    "print 'destroy {}'.format(ddb_stack)\n",
    "response = client.delete_stack(\n",
    "    StackName=ddb_stack\n",
    ")\n",
    "\n",
    "print response\n",
    "\n",
    "print 'waiting for destroy of {}...'.format(ddb_stack)\n",
    "waiter.wait(\n",
    "    StackName=ddb_stack\n",
    ")\n",
    "\n",
    "print 'ddb_stack stack destroyed'"
   ]
  },
  {
   "cell_type": "code",
   "execution_count": null,
   "metadata": {
    "collapsed": true
   },
   "outputs": [],
   "source": []
  }
 ],
 "metadata": {
  "kernelspec": {
   "display_name": "Python 2",
   "language": "python",
   "name": "python2"
  },
  "language_info": {
   "codemirror_mode": {
    "name": "ipython",
    "version": 2
   },
   "file_extension": ".py",
   "mimetype": "text/x-python",
   "name": "python",
   "nbconvert_exporter": "python",
   "pygments_lexer": "ipython2",
   "version": "2.7.12"
  }
 },
 "nbformat": 4,
 "nbformat_minor": 0
}
